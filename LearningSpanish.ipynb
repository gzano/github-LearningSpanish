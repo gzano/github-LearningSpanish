{
 "cells": [
  {
   "cell_type": "code",
   "execution_count": null,
   "metadata": {
    "collapsed": false
   },
   "outputs": [],
   "source": [
    "# $ pip install bs4\n",
    "# $ pip install urllib\n",
    "# $ pip install textblob\n",
    "# more on textblob here: https://pypi.python.org/pypi/textblob\n",
    "\n",
    "import re as re\n",
    "import pandas as pd\n",
    "import numpy as np\n",
    "from bs4 import BeautifulSoup\n",
    "from urllib import urlopen\n",
    "from textblob import TextBlob\n",
    "import requests\n",
    "\n",
    "# Apparently the Google API is having an issue,\n",
    "# here's the fix http://stackoverflow.com/questions/35420602/python-textblob-translation-api-error/35421116#35421116\n"
   ]
  },
  {
   "cell_type": "code",
   "execution_count": null,
   "metadata": {
    "collapsed": false
   },
   "outputs": [],
   "source": [
    "smURL = \"http://www.gutenberg.org/cache/epub/24823/pg24823.txt\"\n"
   ]
  },
  {
   "cell_type": "code",
   "execution_count": null,
   "metadata": {
    "collapsed": false
   },
   "outputs": [],
   "source": [
    "smHtml = urlopen(smURL).read() "
   ]
  },
  {
   "cell_type": "code",
   "execution_count": null,
   "metadata": {
    "collapsed": true
   },
   "outputs": [],
   "source": [
    "smSoup = BeautifulSoup(smHtml, 'html.parser')"
   ]
  },
  {
   "cell_type": "code",
   "execution_count": null,
   "metadata": {
    "collapsed": true
   },
   "outputs": [],
   "source": [
    "# removing styles\n",
    "for script in smSoup([\"script\", \"style\"]):\n",
    "    script.extract()"
   ]
  },
  {
   "cell_type": "code",
   "execution_count": null,
   "metadata": {
    "collapsed": true
   },
   "outputs": [],
   "source": [
    "smText = smSoup.get_text()\n",
    "# removing white space\n",
    "smText = re.sub(r'[^\\w\\s]','',smText)"
   ]
  },
  {
   "cell_type": "code",
   "execution_count": null,
   "metadata": {
    "collapsed": true
   },
   "outputs": [],
   "source": [
    "# Converting all text into a big sentence\n",
    "smText = ' '.join(smText.split())"
   ]
  },
  {
   "cell_type": "code",
   "execution_count": null,
   "metadata": {
    "collapsed": true
   },
   "outputs": [],
   "source": [
    "# Do I need to convert to ansi? Don't know will leave the code commented out\n",
    "smText = smText.encode('ascii','ignore')"
   ]
  },
  {
   "cell_type": "code",
   "execution_count": null,
   "metadata": {
    "collapsed": true
   },
   "outputs": [],
   "source": [
    "# converting all case to lower\n",
    "smText = smText.lower()"
   ]
  },
  {
   "cell_type": "code",
   "execution_count": null,
   "metadata": {
    "collapsed": true
   },
   "outputs": [],
   "source": [
    "# Splitting the big sentence to a list of words\n",
    "smWordsList = smText.split()"
   ]
  },
  {
   "cell_type": "code",
   "execution_count": null,
   "metadata": {
    "collapsed": true
   },
   "outputs": [],
   "source": [
    "# Coverting to Series\n",
    "smWordsSeries = pd.Series(smWordsList)"
   ]
  },
  {
   "cell_type": "code",
   "execution_count": null,
   "metadata": {
    "collapsed": false
   },
   "outputs": [],
   "source": [
    "# Lets include both frequency and rank\n",
    "smWordFrequency = smWordsSeries.value_counts()\n",
    "smWordFrequencyDF = smWordFrequency.to_frame()\n",
    "smWordFrequencyDF.columns = ['Frequency']\n",
    "smWordFrequencyDF['Rank'] = smWordFrequencyDF.rank(ascending=False)\n",
    "smWordFrequencyDF.set_index(['Rank'],append=True)\n",
    "smWordFrequencyDF.index.name = 'SP'\n",
    "print smWordFrequencyDF[:5]\n",
    "print smWordFrequencyDF[-5:]"
   ]
  },
  {
   "cell_type": "code",
   "execution_count": null,
   "metadata": {
    "collapsed": false
   },
   "outputs": [],
   "source": [
    "# My oroginal plan was to create a copy of the dataframe for only the top 1000 entries\n",
    "# this produced an error far below at my code, when trying to assign\n",
    "# value to a copy of the dataframe,\n",
    "# therefor eI decided to use the original dataframe - no copies, and set\n",
    "# an if when iterating to stop it at the top 1000 or whatever\n",
    "# here's some documentation on it: http://pandas.pydata.org/pandas-docs/stable/indexing.html#why-does-assignment-fail-when-using-chained-indexing\n",
    "\n",
    "# Inserting one more column\n",
    "smWordFrequencyDF['ENG_Translation'] = 'aaa'"
   ]
  },
  {
   "cell_type": "code",
   "execution_count": null,
   "metadata": {
    "collapsed": false
   },
   "outputs": [],
   "source": [
    "url = 'http://translate.google.com/translate_a/t'\n",
    "for index, row in smWordFrequencyDF.iterrows():\n",
    "    if row['Rank'] <10 : \n",
    "        SP = smWordFrequencyDF.index[int(row['Rank'])]\n",
    "        blob = TextBlob(SP)\n",
    "        ENG = blob.translate(to=\"e\")\n",
    "        params = {\n",
    "            \"text\": SP, \n",
    "            \"sl\": \"es\", \n",
    "            \"tl\": \"en\", \n",
    "            \"client\": \"p\"\n",
    "        }\n",
    "        ENG = requests.get(url, params=params).content\n",
    "        print ENG\n",
    "        #smWordFrequencyDF.loc[int(row['Rank']),'ENG_Translation'] = ENG"
   ]
  },
  {
   "cell_type": "code",
   "execution_count": null,
   "metadata": {
    "collapsed": false
   },
   "outputs": [],
   "source": [
    "print smWordFrequencyDF[:15]"
   ]
  },
  {
   "cell_type": "code",
   "execution_count": null,
   "metadata": {
    "collapsed": false
   },
   "outputs": [],
   "source": []
  },
  {
   "cell_type": "code",
   "execution_count": null,
   "metadata": {
    "collapsed": false
   },
   "outputs": [],
   "source": []
  },
  {
   "cell_type": "code",
   "execution_count": null,
   "metadata": {
    "collapsed": false
   },
   "outputs": [],
   "source": []
  },
  {
   "cell_type": "code",
   "execution_count": null,
   "metadata": {
    "collapsed": false
   },
   "outputs": [],
   "source": []
  },
  {
   "cell_type": "code",
   "execution_count": null,
   "metadata": {
    "collapsed": false
   },
   "outputs": [],
   "source": []
  },
  {
   "cell_type": "code",
   "execution_count": null,
   "metadata": {
    "collapsed": true
   },
   "outputs": [],
   "source": []
  }
 ],
 "metadata": {
  "kernelspec": {
   "display_name": "Python 2",
   "language": "python",
   "name": "python2"
  },
  "language_info": {
   "codemirror_mode": {
    "name": "ipython",
    "version": 2
   },
   "file_extension": ".py",
   "mimetype": "text/x-python",
   "name": "python",
   "nbconvert_exporter": "python",
   "pygments_lexer": "ipython2",
   "version": "2.7.10"
  }
 },
 "nbformat": 4,
 "nbformat_minor": 0
}
