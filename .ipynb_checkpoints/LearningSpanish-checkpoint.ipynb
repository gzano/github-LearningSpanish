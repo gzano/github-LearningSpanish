{
 "cells": [
  {
   "cell_type": "code",
   "execution_count": 4,
   "metadata": {
    "collapsed": false
   },
   "outputs": [],
   "source": [
    "import re as re\n",
    "import pandas as pd\n",
    "import numpy as np\n",
    "from bs4 import BeautifulSoup\n",
    "from urllib import urlopen"
   ]
  },
  {
   "cell_type": "code",
   "execution_count": 9,
   "metadata": {
    "collapsed": false
   },
   "outputs": [],
   "source": [
    "smURL = \"http://www.gutenberg.org/cache/epub/24823/pg24823.txt\"\n"
   ]
  },
  {
   "cell_type": "code",
   "execution_count": 10,
   "metadata": {
    "collapsed": false
   },
   "outputs": [],
   "source": [
    "smHtml = urlopen(smURL).read() "
   ]
  },
  {
   "cell_type": "code",
   "execution_count": 11,
   "metadata": {
    "collapsed": true
   },
   "outputs": [],
   "source": [
    "smSoup = BeautifulSoup(smHtml, 'html.parser')"
   ]
  },
  {
   "cell_type": "code",
   "execution_count": 12,
   "metadata": {
    "collapsed": true
   },
   "outputs": [],
   "source": [
    "# removing styles\n",
    "for script in smSoup([\"script\", \"style\",\"p\"]):\n",
    "    script.extract()"
   ]
  },
  {
   "cell_type": "code",
   "execution_count": 13,
   "metadata": {
    "collapsed": true
   },
   "outputs": [],
   "source": [
    "smText = smSoup.get_text()\n",
    "# removing white space\n",
    "smText = re.sub(r'[^\\w\\s]','',smText)"
   ]
  },
  {
   "cell_type": "code",
   "execution_count": 14,
   "metadata": {
    "collapsed": true
   },
   "outputs": [],
   "source": [
    "# Converting all text into a big sentence\n",
    "smText = ' '.join(smText.split())"
   ]
  },
  {
   "cell_type": "code",
   "execution_count": 15,
   "metadata": {
    "collapsed": true
   },
   "outputs": [],
   "source": [
    "# Do I need to convert to ansi? Don't know will leave the code commented out\n",
    "#smText = smText.encode('ascii','ignore')"
   ]
  },
  {
   "cell_type": "code",
   "execution_count": 16,
   "metadata": {
    "collapsed": true
   },
   "outputs": [],
   "source": [
    "# converting all case to lower\n",
    "smText = smText.lower()"
   ]
  },
  {
   "cell_type": "code",
   "execution_count": 17,
   "metadata": {
    "collapsed": true
   },
   "outputs": [],
   "source": [
    "# Splitting the big sentence to a list of words\n",
    "smWordsList = smText.split()"
   ]
  },
  {
   "cell_type": "code",
   "execution_count": 18,
   "metadata": {
    "collapsed": true
   },
   "outputs": [],
   "source": [
    "# Coverting to Series\n",
    "smWordsSeries = pd.Series(smWordsList)"
   ]
  },
  {
   "cell_type": "code",
   "execution_count": 20,
   "metadata": {
    "collapsed": false
   },
   "outputs": [
    {
     "name": "stdout",
     "output_type": "stream",
     "text": [
      "     Frequency  Rank\n",
      "de        4038     1\n",
      "que       3421     2\n",
      "la        2584     3\n",
      "a         2061     4\n",
      "y         1970     5\n",
      "             Frequency    Rank\n",
      "introducir           1  7540.5\n",
      "huele                1  7540.5\n",
      "persuadi             1  7540.5\n",
      "esparciendo          1  7540.5\n",
      "meet                 1  7540.5\n"
     ]
    }
   ],
   "source": [
    "# Lets include both frequency and rank\n",
    "smWordFrequency = smWordsSeries.value_counts()\n",
    "smWordFrequencyDF = smWordFrequency.to_frame()\n",
    "smWordFrequencyDF.columns = ['Frequency']\n",
    "smWordFrequencyDF['Rank'] = smWordFrequencyDF.rank(ascending=False)\n",
    "smWordFrequencyDF.set_index(['Rank'],append=True)\n",
    "print smWordFrequencyDF[:5]\n",
    "print smWordFrequencyDF[-5:]"
   ]
  },
  {
   "cell_type": "code",
   "execution_count": 21,
   "metadata": {
    "collapsed": true
   },
   "outputs": [],
   "source": [
    "ReferenceTable=smWordFrequencyDF[:1000]"
   ]
  },
  {
   "cell_type": "code",
   "execution_count": null,
   "metadata": {
    "collapsed": true
   },
   "outputs": [],
   "source": []
  }
 ],
 "metadata": {
  "kernelspec": {
   "display_name": "Python 2",
   "language": "python",
   "name": "python2"
  },
  "language_info": {
   "codemirror_mode": {
    "name": "ipython",
    "version": 2
   },
   "file_extension": ".py",
   "mimetype": "text/x-python",
   "name": "python",
   "nbconvert_exporter": "python",
   "pygments_lexer": "ipython2",
   "version": "2.7.10"
  }
 },
 "nbformat": 4,
 "nbformat_minor": 0
}
